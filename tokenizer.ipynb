{
 "cells": [
  {
   "cell_type": "code",
   "execution_count": null,
   "metadata": {},
   "outputs": [],
   "source": [
    "import re"
   ]
  },
  {
   "cell_type": "code",
   "execution_count": null,
   "metadata": {},
   "outputs": [],
   "source": [
    "def Read_Corpus(path):\n",
    "    corpus_file = open(path, 'r')\n",
    "    lines = corpus_file.readlines()\n",
    "    text = \"\"\n",
    "    for line in lines:\n",
    "        striped_line = line.strip()\n",
    "        if striped_line != '':\n",
    "            text = text + \" \" + striped_line\n",
    "    return text\n",
    "\n",
    "\n",
    "# Handeling urls, mentions, hashtags\n",
    "def substitue_tokens(corpus):\n",
    "    corpus = re.sub(\"#[a-zA-Z0-9_]+\", \"<HASHTAG>\", corpus)\n",
    "    corpus = re.sub(\"@[a-zA-Z0-9_]+\", \"<MENTION>\", corpus)\n",
    "    corpus = re.sub(\"https?://[a-zA-Z0-9_./]+\", \"<URL>\", corpus)\n",
    "    return corpus\n",
    "\n",
    "\n",
    "def split_corpus_into_sentences(corpus):\n",
    "    sentences = re.split(\"[.?!]\", corpus)\n",
    "    sentences = [sentence.strip() for sentence in sentences]\n",
    "    return sentences\n",
    "\n",
    "\n",
    "def tokenize_sentence(sen):\n",
    "    # Handles words \n",
    "    word_wise = sen.split()\n",
    "    # Handeling punctuations\n",
    "    tokenized_sen = []\n",
    "    for word in word_wise:\n",
    "        if(is_punc(word) == True):\n",
    "            tokenized_sen.append(word)\n",
    "        else:\n",
    "            if(starting_punc(word) == True):\n",
    "                tokenized_sen.append(word[0])\n",
    "                var_word = word[1:]\n",
    "            else:\n",
    "                var_word = word\n",
    "            \n",
    "            if(ending_punc(var_word) == True):\n",
    "                tokenized_sen.append(var_word[:-1])\n",
    "                tokenized_sen.append(var_word[-1])\n",
    "            else:\n",
    "                tokenized_sen.append(var_word)\n",
    "    return tokenized_sen\n",
    "\n",
    "\n",
    "# Does the given word have punctation at the end\n",
    "def ending_punc(word):\n",
    "    if(word[-1] == ',') or (word[-1] == ':') or (word[-1] == ';') or (word[-1] == '\"') or (word[-1] == ')') or (word[-1] == '}') or (word[-1] == ']'):\n",
    "        return True\n",
    "    else:\n",
    "        return False\n",
    "    \n",
    "\n",
    "# Does the given word have punctation at the start\n",
    "def starting_punc(word):\n",
    "    if(word[0] == '\"') or (word[0] == '(') or (word[0] == '{') or (word[0] == '['):\n",
    "        return True\n",
    "    else:\n",
    "        return False\n",
    "    \n",
    "\n",
    "# Is the given word a punctation\n",
    "def is_punc(word):\n",
    "    if(len(word) == 1 and (ending_punc(word) or starting_punc(word))):\n",
    "        return True\n",
    "    else:\n",
    "        return False"
   ]
  },
  {
   "cell_type": "code",
   "execution_count": null,
   "metadata": {},
   "outputs": [],
   "source": [
    "pride = Read_Corpus('Pride and Prejudice - Jane Austen.txt')\n",
    "#use = Read_Corpus('Ulysses - James Joyce.txt')"
   ]
  },
  {
   "cell_type": "code",
   "execution_count": null,
   "metadata": {},
   "outputs": [],
   "source": [
    "def tokenize_corpus(path, use):\n",
    "    corpus = Read_Corpus(path)\n",
    "    corpus = substitue_tokens(corpus)\n",
    "    sentences = split_corpus_into_sentences(corpus)\n",
    "    tokenized_corpus = []\n",
    "    for sentence in sentences:\n",
    "        tokenized_corpus.append(tokenize_sentence(sentence))\n",
    "\n",
    "    if(use == \"model\"):\n",
    "        removed_punctions = []\n",
    "        for token_sen in tokenized_corpus:\n",
    "            punc_removed_token_sen = [word for word in token_sen if not is_punc(word)]\n",
    "            removed_punctions.append(punc_removed_token_sen)\n",
    "        return removed_punctions\n",
    "    else:\n",
    "        merged_tokenized_corpus = []\n",
    "        for token_sen in tokenized_corpus:\n",
    "            for token in token_sen:\n",
    "                merged_tokenized_corpus.append(token)\n",
    "        return merged_tokenized_corpus"
   ]
  },
  {
   "cell_type": "code",
   "execution_count": null,
   "metadata": {},
   "outputs": [],
   "source": [
    "a = tokenize_corpus('Pride and Prejudice - Jane Austen.txt', \"model\")\n",
    "b = tokenize_corpus('Ulysses - James Joyce.txt', \"model\")\n",
    "file_p = open(\"pride.txt\", \"w\")\n",
    "file_u = open(\"ulysses.txt\", \"w\")\n",
    "file_p.write(str(a))\n",
    "file_u.write(str(b))\n",
    "file_p.close()\n",
    "file_u.close()"
   ]
  }
 ],
 "metadata": {
  "kernelspec": {
   "display_name": "NLPA1",
   "language": "python",
   "name": "python3"
  },
  "language_info": {
   "codemirror_mode": {
    "name": "ipython",
    "version": 3
   },
   "file_extension": ".py",
   "mimetype": "text/x-python",
   "name": "python",
   "nbconvert_exporter": "python",
   "pygments_lexer": "ipython3",
   "version": "3.10.9"
  },
  "orig_nbformat": 4,
  "vscode": {
   "interpreter": {
    "hash": "81a2345993b7577bc27cad467612a9e6924e1c7dda3cbe531a1b9023471939ff"
   }
  }
 },
 "nbformat": 4,
 "nbformat_minor": 2
}
