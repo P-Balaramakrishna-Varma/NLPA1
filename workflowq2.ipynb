{
 "cells": [
  {
   "cell_type": "code",
   "execution_count": 35,
   "metadata": {},
   "outputs": [],
   "source": [
    "import re\n",
    "from nltk.tokenize import sent_tokenize"
   ]
  },
  {
   "cell_type": "code",
   "execution_count": 36,
   "metadata": {},
   "outputs": [],
   "source": [
    "def Read_Corpus(path):\n",
    "    corpus_file = open(path, 'r')\n",
    "    lines = corpus_file.readlines()\n",
    "    text = \"\"\n",
    "    for line in lines:\n",
    "        striped_line = line.strip()\n",
    "        if striped_line != '':\n",
    "            text = text + \" \" + striped_line\n",
    "    return text\n",
    "\n",
    "\n",
    "def substitue_tokens(sentences):\n",
    "    sub_sentences = []\n",
    "    for sentence in sentences:\n",
    "        sub_sen = sentence\n",
    "        sub_sen = re.sub(\"#[a-zA-Z0-9_]+\", \"<HASHTAG>\", sub_sen)\n",
    "        sub_sen = re.sub(\"@[a-zA-Z0-9_]+\", \"<MENTION>\", sub_sen)\n",
    "        sub_sen = re.sub(\"https?://[a-zA-Z0-9_./]+\", \"<URL>\", sub_sen)\n",
    "        sub_sentences.append(sub_sen)\n",
    "    return sub_sentences\n",
    "\n",
    "\n",
    "def split_corpus_into_sentences(corpus):\n",
    "    sentences = sent_tokenize(corpus)\n",
    "    return sentences\n",
    "\n",
    "\n",
    "def tokenize_sentence(sen):\n",
    "    # Handles words \n",
    "    word_wise = sen.split()\n",
    "\n",
    "    # Handeling punctuations\n",
    "    tokenized_sen = []\n",
    "    for word in word_wise:\n",
    "        if(is_punc(word) == True):\n",
    "            tokenized_sen.append(word)\n",
    "        else:\n",
    "            var_word = word\n",
    "            while(starting_punc(var_word) == True):\n",
    "                tokenized_sen.append(word[0])\n",
    "                var_word = word[1:]\n",
    "            \n",
    "            end_puncs = []\n",
    "            while(ending_punc(var_word) == True):\n",
    "                end_puncs = [var_word[-1]] + end_puncs\n",
    "                var_word = var_word[:-1]\n",
    "            \n",
    "            tokenized_sen.append(var_word)\n",
    "            tokenized_sen += end_puncs\n",
    "    \n",
    "    return tokenized_sen\n",
    "\n",
    "\n",
    "# Does the given word have punctation at the end\n",
    "def ending_punc(word):\n",
    "    if(word[-1] == ',') or (word[-1] == ':') or (word[-1] == ';') or (word[-1] == '\"') or (word[-1] == ')') or (word[-1] == '}') or (word[-1] == ']') or (word[-1] == '.') or (word[-1] == '?') or (word[-1] == '!'):\n",
    "        return True\n",
    "    else:\n",
    "        return False\n",
    "    \n",
    "\n",
    "# Does the given word have punctation at the start\n",
    "def starting_punc(word):\n",
    "    if(word[0] == '\"') or (word[0] == '(') or (word[0] == '{') or (word[0] == '['):\n",
    "        return True\n",
    "    else:\n",
    "        return False\n",
    "    \n",
    "\n",
    "# Is the given word a punctation\n",
    "def is_punc(word):\n",
    "    if(len(word) == 1 and (ending_punc(word) or starting_punc(word))):\n",
    "        return True\n",
    "    else:\n",
    "        return False"
   ]
  },
  {
   "cell_type": "code",
   "execution_count": 37,
   "metadata": {},
   "outputs": [
    {
     "name": "stdout",
     "output_type": "stream",
     "text": [
      "['<MENTION>', '<HASHTAG>', '<URL>', 'are', 'my', 'subtitions', 'working', '.']\n",
      "['Is', 'the', 'split', 'based', 'on', 'sentece', 'working', '?']\n",
      "['yes', ',', 'it', 'is', 'working', '?', '?', '?', '!']\n",
      "['yeah', 'bro', '.']\n"
     ]
    }
   ],
   "source": [
    "corpus = Read_Corpus('test.txt')\n",
    "sentences = sent_tokenize(corpus)\n",
    "url_metions = substitue_tokens(sentences)\n",
    "sentence_tokenized = []\n",
    "for sentence in url_metions:\n",
    "    tokenized_sen = tokenize_sentence(sentence)\n",
    "    sentence_tokenized.append(tokenized_sen)\n",
    "for sentence in sentence_tokenized:\n",
    "    print(sentence)"
   ]
  }
 ],
 "metadata": {
  "kernelspec": {
   "display_name": "NLPA1",
   "language": "python",
   "name": "python3"
  },
  "language_info": {
   "codemirror_mode": {
    "name": "ipython",
    "version": 3
   },
   "file_extension": ".py",
   "mimetype": "text/x-python",
   "name": "python",
   "nbconvert_exporter": "python",
   "pygments_lexer": "ipython3",
   "version": "3.10.9"
  },
  "orig_nbformat": 4,
  "vscode": {
   "interpreter": {
    "hash": "81a2345993b7577bc27cad467612a9e6924e1c7dda3cbe531a1b9023471939ff"
   }
  }
 },
 "nbformat": 4,
 "nbformat_minor": 2
}
